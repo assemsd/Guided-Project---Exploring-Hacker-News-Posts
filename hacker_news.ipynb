{
 "cells": [
  {
   "cell_type": "markdown",
   "metadata": {
    "collapsed": true
   },
   "source": [
    "# Analyzing of the data set of submissions to Hacker News\n",
    "\n",
    "In the this project, we will work with a data set of submissions to popular technology site Hacker News."
   ]
  },
  {
   "cell_type": "code",
   "execution_count": 1,
   "metadata": {
    "collapsed": false
   },
   "outputs": [
    {
     "name": "stdout",
     "output_type": "stream",
     "text": [
      "[['id', 'title', 'url', 'num_points', 'num_comments', 'author', 'created_at'], ['12224879', 'Interactive Dynamic Video', 'http://www.interactivedynamicvideo.com/', '386', '52', 'ne0phyte', '8/4/2016 11:52'], ['10975351', 'How to Use Open Source and Shut the Fuck Up at the Same Time', 'http://hueniverse.com/2016/01/26/how-to-use-open-source-and-shut-the-fuck-up-at-the-same-time/', '39', '10', 'josep2', '1/26/2016 19:30'], ['11964716', \"Florida DJs May Face Felony for April Fools' Water Joke\", 'http://www.thewire.com/entertainment/2013/04/florida-djs-april-fools-water-joke/63798/', '2', '1', 'vezycash', '6/23/2016 22:20'], ['11919867', 'Technology ventures: From Idea to Enterprise', 'https://www.amazon.com/Technology-Ventures-Enterprise-Thomas-Byers/dp/0073523429', '3', '1', 'hswarna', '6/17/2016 0:01']]\n"
     ]
    }
   ],
   "source": [
    "opened_file = open(\"hacker_news.csv\")\n",
    "from csv import reader\n",
    "read_file = reader(opened_file)\n",
    "hn = list(read_file)\n",
    "print(hn[0:5])"
   ]
  },
  {
   "cell_type": "code",
   "execution_count": 2,
   "metadata": {
    "collapsed": false
   },
   "outputs": [
    {
     "name": "stdout",
     "output_type": "stream",
     "text": [
      "[['12224879', 'Interactive Dynamic Video', 'http://www.interactivedynamicvideo.com/', '386', '52', 'ne0phyte', '8/4/2016 11:52'], ['10975351', 'How to Use Open Source and Shut the Fuck Up at the Same Time', 'http://hueniverse.com/2016/01/26/how-to-use-open-source-and-shut-the-fuck-up-at-the-same-time/', '39', '10', 'josep2', '1/26/2016 19:30'], ['11964716', \"Florida DJs May Face Felony for April Fools' Water Joke\", 'http://www.thewire.com/entertainment/2013/04/florida-djs-april-fools-water-joke/63798/', '2', '1', 'vezycash', '6/23/2016 22:20'], ['11919867', 'Technology ventures: From Idea to Enterprise', 'https://www.amazon.com/Technology-Ventures-Enterprise-Thomas-Byers/dp/0073523429', '3', '1', 'hswarna', '6/17/2016 0:01'], ['10301696', 'Note by Note: The Making of Steinway L1037 (2007)', 'http://www.nytimes.com/2007/11/07/movies/07stein.html?_r=0', '8', '2', 'walterbell', '9/30/2015 4:12']]\n"
     ]
    }
   ],
   "source": [
    "headers = hn[0]\n",
    "hn = hn[1:]\n",
    "print(hn[0:5])"
   ]
  },
  {
   "cell_type": "code",
   "execution_count": 3,
   "metadata": {
    "collapsed": false
   },
   "outputs": [
    {
     "name": "stdout",
     "output_type": "stream",
     "text": [
      "Number of posts in 'ask_posts':  1744\n",
      "Number of posts in 'show_posts':  1162\n",
      "Number of posts in 'other_posts':  17194\n"
     ]
    }
   ],
   "source": [
    "ask_posts = []\n",
    "show_posts = []\n",
    "other_posts = []\n",
    "for row in hn:\n",
    "    title = row[1]\n",
    "    if title.lower().startswith('ask hn'):\n",
    "        ask_posts.append(row)\n",
    "    elif title.lower().startswith('show hn'):\n",
    "        show_posts.append(row)\n",
    "    else:\n",
    "        other_posts.append(row)\n",
    "        \n",
    "print(\"Number of posts in 'ask_posts': \", len(ask_posts))\n",
    "print(\"Number of posts in 'show_posts': \",len(show_posts))\n",
    "print(\"Number of posts in 'other_posts': \",len(other_posts))\n"
   ]
  },
  {
   "cell_type": "code",
   "execution_count": 4,
   "metadata": {
    "collapsed": false
   },
   "outputs": [
    {
     "name": "stdout",
     "output_type": "stream",
     "text": [
      "[['12296411', 'Ask HN: How to improve my personal website?', '', '2', '6', 'ahmedbaracat', '8/16/2016 9:55'], ['10610020', 'Ask HN: Am I the only one outraged by Twitter shutting down share counts?', '', '28', '29', 'tkfx', '11/22/2015 13:43'], ['11610310', 'Ask HN: Aby recent changes to CSS that broke mobile?', '', '1', '1', 'polskibus', '5/2/2016 10:14'], ['12210105', 'Ask HN: Looking for Employee #3 How do I do it?', '', '1', '3', 'sph130', '8/2/2016 14:20'], ['10394168', 'Ask HN: Someone offered to buy my browser extension from me. What now?', '', '28', '17', 'roykolak', '10/15/2015 16:38']]\n"
     ]
    }
   ],
   "source": [
    "print(ask_posts[0:5])"
   ]
  },
  {
   "cell_type": "code",
   "execution_count": 5,
   "metadata": {
    "collapsed": false
   },
   "outputs": [
    {
     "name": "stdout",
     "output_type": "stream",
     "text": [
      "[['10627194', 'Show HN: Wio Link  ESP8266 Based Web of Things Hardware Development Platform', 'https://iot.seeed.cc', '26', '22', 'kfihihc', '11/25/2015 14:03'], ['10646440', 'Show HN: Something pointless I made', 'http://dn.ht/picklecat/', '747', '102', 'dhotson', '11/29/2015 22:46'], ['11590768', 'Show HN: Shanhu.io, a programming playground powered by e8vm', 'https://shanhu.io', '1', '1', 'h8liu', '4/28/2016 18:05'], ['12178806', 'Show HN: Webscope  Easy way for web developers to communicate with Clients', 'http://webscopeapp.com', '3', '3', 'fastbrick', '7/28/2016 7:11'], ['10872799', 'Show HN: GeoScreenshot  Easily test Geo-IP based web pages', 'https://www.geoscreenshot.com/', '1', '9', 'kpsychwave', '1/9/2016 20:45']]\n"
     ]
    }
   ],
   "source": [
    "print(show_posts[0:5])"
   ]
  },
  {
   "cell_type": "code",
   "execution_count": 6,
   "metadata": {
    "collapsed": false
   },
   "outputs": [
    {
     "name": "stdout",
     "output_type": "stream",
     "text": [
      "Average number of comments on 'ask posts':  14.038417431192661\n",
      "Average number of comments on 'show posts':  10.31669535283993\n"
     ]
    }
   ],
   "source": [
    "total_ask_comments = 0\n",
    "\n",
    "for row in ask_posts:\n",
    "    num_comments = int(row[4])\n",
    "    total_ask_comments += num_comments\n",
    "\n",
    "avg_ask_comments = total_ask_comments / len(ask_posts)\n",
    "#print(total_ask_comments)\n",
    "print(\"Average number of comments on 'ask posts': \", avg_ask_comments)\n",
    "\n",
    "total_show_comments = 0\n",
    "\n",
    "for row in show_posts:\n",
    "    num_comments = int(row[4])\n",
    "    total_show_comments += num_comments\n",
    "\n",
    "avg_show_comments = total_show_comments / len(show_posts)\n",
    "#print(total_show_comments)\n",
    "print(\"Average number of comments on 'show posts': \", avg_show_comments)"
   ]
  },
  {
   "cell_type": "markdown",
   "metadata": {},
   "source": [
    "We determine that 'ask posts' receive more comments than 'show posts' on average."
   ]
  },
  {
   "cell_type": "code",
   "execution_count": 7,
   "metadata": {
    "collapsed": false
   },
   "outputs": [
    {
     "name": "stdout",
     "output_type": "stream",
     "text": [
      "<class 'str'>\n"
     ]
    }
   ],
   "source": [
    "print(type(ask_posts[2][6]))"
   ]
  },
  {
   "cell_type": "code",
   "execution_count": 10,
   "metadata": {
    "collapsed": false
   },
   "outputs": [
    {
     "name": "stdout",
     "output_type": "stream",
     "text": [
      "comments_by_hour:  {'09': 251, '06': 397, '15': 4477, '03': 421, '02': 1381, '17': 1146, '16': 1814, '04': 337, '19': 1188, '20': 1722, '08': 492, '13': 1253, '00': 447, '05': 464, '11': 641, '07': 267, '21': 1745, '10': 793, '01': 683, '12': 687, '23': 543, '18': 1439, '22': 479, '14': 1416}\n",
      "counts_by_hour:  {'09': 45, '06': 44, '15': 116, '03': 54, '02': 58, '17': 100, '16': 108, '04': 47, '19': 110, '20': 80, '08': 48, '13': 85, '00': 55, '05': 46, '11': 58, '07': 34, '21': 109, '10': 59, '01': 60, '12': 73, '23': 68, '18': 109, '22': 71, '14': 107}\n"
     ]
    }
   ],
   "source": [
    "import datetime as dt\n",
    "result_list = []\n",
    "\n",
    "for row in ask_posts:\n",
    "    created_at = row[6]\n",
    "    num_comments = int(row[4])\n",
    "    result_list.append([created_at, num_comments])\n",
    "       \n",
    "counts_by_hour = {}\n",
    "comments_by_hour = {}\n",
    "\n",
    "for row in result_list:\n",
    "    first_row_str = row[0]\n",
    "    first_row_dt = dt.datetime.strptime(first_row_str, \"%m/%d/%Y %H:%M\")\n",
    "    first_row_dt_hr = first_row_dt.strftime('%H')\n",
    "    if first_row_dt_hr not in counts_by_hour:\n",
    "        counts_by_hour[first_row_dt_hr] = 1\n",
    "        comments_by_hour[first_row_dt_hr] = row[1]\n",
    "    else:\n",
    "        counts_by_hour[first_row_dt_hr] += 1\n",
    "        comments_by_hour[first_row_dt_hr] += row[1]\n",
    "\n",
    "print(\"comments_by_hour: \", comments_by_hour)\n",
    "print(\"counts_by_hour: \", counts_by_hour)"
   ]
  },
  {
   "cell_type": "code",
   "execution_count": 11,
   "metadata": {
    "collapsed": false
   },
   "outputs": [
    {
     "name": "stdout",
     "output_type": "stream",
     "text": [
      "[['09', 5.5777777777777775], ['06', 9.022727272727273], ['15', 38.5948275862069], ['03', 7.796296296296297], ['02', 23.810344827586206], ['17', 11.46], ['16', 16.796296296296298], ['04', 7.170212765957447], ['19', 10.8], ['20', 21.525], ['08', 10.25], ['13', 14.741176470588234], ['00', 8.127272727272727], ['05', 10.08695652173913], ['11', 11.051724137931034], ['07', 7.852941176470588], ['21', 16.009174311926607], ['10', 13.440677966101696], ['01', 11.383333333333333], ['12', 9.41095890410959], ['23', 7.985294117647059], ['18', 13.20183486238532], ['22', 6.746478873239437], ['14', 13.233644859813085]]\n"
     ]
    }
   ],
   "source": [
    "avg_by_hour = []\n",
    "\n",
    "for i in comments_by_hour:\n",
    "    avg_by_hour.append([i, comments_by_hour[i] / counts_by_hour[i]])\n",
    "\n",
    "print(avg_by_hour)"
   ]
  },
  {
   "cell_type": "code",
   "execution_count": 16,
   "metadata": {
    "collapsed": false
   },
   "outputs": [
    {
     "name": "stdout",
     "output_type": "stream",
     "text": [
      "[[5.5777777777777775, '09'], [9.022727272727273, '06'], [38.5948275862069, '15'], [7.796296296296297, '03'], [23.810344827586206, '02'], [11.46, '17'], [16.796296296296298, '16'], [7.170212765957447, '04'], [10.8, '19'], [21.525, '20'], [10.25, '08'], [14.741176470588234, '13'], [8.127272727272727, '00'], [10.08695652173913, '05'], [11.051724137931034, '11'], [7.852941176470588, '07'], [16.009174311926607, '21'], [13.440677966101696, '10'], [11.383333333333333, '01'], [9.41095890410959, '12'], [7.985294117647059, '23'], [13.20183486238532, '18'], [6.746478873239437, '22'], [13.233644859813085, '14']]\n",
      "Top 5 Hours for Ask Posts Comments:\n",
      "15:00: 38.59 averagee comments per host\n",
      "02:00: 23.81 averagee comments per host\n",
      "20:00: 21.52 averagee comments per host\n",
      "16:00: 16.80 averagee comments per host\n",
      "21:00: 16.01 averagee comments per host\n"
     ]
    }
   ],
   "source": [
    "from operator import itemgetter\n",
    "\n",
    "swap_avg_by_hour = []\n",
    "\n",
    "for row in avg_by_hour:\n",
    "    swap_avg_by_hour.append([row[1], row[0]])\n",
    "\n",
    "print(swap_avg_by_hour)\n",
    "sorted_swap = sorted(swap_avg_by_hour, key=itemgetter(0), reverse=True)\n",
    "print(\"Top 5 Hours for Ask Posts Comments:\")\n",
    "\n",
    "for avg, hour in sorted_swap[0:5]:\n",
    "    hour_obj = dt.datetime.strptime(hour, \"%H\")\n",
    "    hour_dt = hour_obj.strftime('%H:%M')\n",
    "    print(\"{h}: {a:.2f} averagee comments per host\".format(h = hour_dt, a = avg))"
   ]
  },
  {
   "cell_type": "markdown",
   "metadata": {},
   "source": [
    "As we found out we should create a post during 20, 07, 01, 21, 02 (Central European Time Zone) hours to have a higher chance of receiving comments, since the average number of comments for posts created during this hours are the highest."
   ]
  }
 ],
 "metadata": {
  "kernelspec": {
   "display_name": "Python 3",
   "language": "python",
   "name": "python3"
  },
  "language_info": {
   "codemirror_mode": {
    "name": "ipython",
    "version": 3
   },
   "file_extension": ".py",
   "mimetype": "text/x-python",
   "name": "python",
   "nbconvert_exporter": "python",
   "pygments_lexer": "ipython3",
   "version": "3.4.3"
  }
 },
 "nbformat": 4,
 "nbformat_minor": 2
}
